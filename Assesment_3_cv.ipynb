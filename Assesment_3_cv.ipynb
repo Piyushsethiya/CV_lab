{
  "nbformat": 4,
  "nbformat_minor": 0,
  "metadata": {
    "colab": {
      "provenance": [],
      "authorship_tag": "ABX9TyOS22425qhbpgSwJxVLheHv",
      "include_colab_link": true
    },
    "kernelspec": {
      "name": "python3",
      "display_name": "Python 3"
    },
    "language_info": {
      "name": "python"
    }
  },
  "cells": [
    {
      "cell_type": "markdown",
      "metadata": {
        "id": "view-in-github",
        "colab_type": "text"
      },
      "source": [
        "<a href=\"https://colab.research.google.com/github/Piyushsethiya/CV_lab/blob/main/Assesment_3_cv.ipynb\" target=\"_parent\"><img src=\"https://colab.research.google.com/assets/colab-badge.svg\" alt=\"Open In Colab\"/></a>"
      ]
    },
    {
      "cell_type": "markdown",
      "source": [
        "**Decision Tree**"
      ],
      "metadata": {
        "id": "JSlkPR-p4Nmr"
      }
    },
    {
      "cell_type": "code",
      "execution_count": 9,
      "metadata": {
        "id": "tYXPDQs30eNb"
      },
      "outputs": [],
      "source": [
        "import numpy as np\n",
        "\n",
        "def entropy(y):\n",
        "    \"\"\"\n",
        "    Calculating the entropy of a list of labels.\n",
        "    \"\"\"\n",
        "    classes, counts = np.unique(y, return_counts=True)\n",
        "    prob = counts / len(y)\n",
        "    entropy = -np.sum(prob * np.log2(prob))\n",
        "    return entropy"
      ]
    },
    {
      "cell_type": "code",
      "source": [
        "def information_gain(X, y, feature_idx):\n",
        "    \"\"\"\n",
        "    Calculating the information gain of a feature.\n",
        "    \"\"\"\n",
        "    total_entropy = entropy(y)\n",
        "    values, counts = np.unique(X[:, feature_idx], return_counts=True)\n",
        "    weighted_entropy = 0\n",
        "    for value, count in zip(values, counts):\n",
        "        subset_entropy = entropy(y[X[:, feature_idx] == value])\n",
        "        weighted_entropy += count / len(X) * subset_entropy\n",
        "    information_gain = total_entropy - weighted_entropy\n",
        "    return information_gain"
      ],
      "metadata": {
        "id": "6-2qPd_G0nFJ"
      },
      "execution_count": 10,
      "outputs": []
    },
    {
      "cell_type": "code",
      "source": [
        "def find_best_split(X, y):\n",
        "    \"\"\"\n",
        "    Finding the best feature to split on based on information gain.\n",
        "    \"\"\"\n",
        "    best_gain = -1\n",
        "    best_feature = None\n",
        "    for feature_idx in range(X.shape[1]):\n",
        "        gain = information_gain(X, y, feature_idx)\n",
        "        if gain > best_gain:\n",
        "            best_gain = gain\n",
        "            best_feature = feature_idx\n",
        "    return best_feature"
      ],
      "metadata": {
        "id": "0kyr-qlD0rjE"
      },
      "execution_count": 11,
      "outputs": []
    },
    {
      "cell_type": "code",
      "source": [
        "class DecisionTree:\n",
        "    def __init__(self, max_depth=None):\n",
        "        self.max_depth = max_depth\n",
        "\n",
        "    def fit(self, X, y):\n",
        "        self.tree_ = self._grow_tree(X, y)\n",
        "\n",
        "    def _grow_tree(self, X, y, depth=0):\n",
        "        if len(np.unique(y)) == 1 or (self.max_depth is not None and depth >= self.max_depth):\n",
        "            return np.argmax(np.bincount(y))\n",
        "\n",
        "        feature_idx = find_best_split(X, y)\n",
        "        if feature_idx is None:\n",
        "            return np.argmax(np.bincount(y))\n",
        "\n",
        "        values = np.unique(X[:, feature_idx])\n",
        "        node = {}\n",
        "        node[feature_idx] = {}\n",
        "        for value in values:\n",
        "            mask = X[:, feature_idx] == value\n",
        "            node[feature_idx][value] = self._grow_tree(X[mask], y[mask], depth + 1)\n",
        "        return node\n",
        "\n",
        "    def predict(self, X):\n",
        "        return np.array([self._predict(inputs) for inputs in X])\n",
        "\n",
        "    def _predict(self, inputs):\n",
        "        node = self.tree_\n",
        "        while isinstance(node, dict):\n",
        "            feature_idx = list(node.keys())[0]\n",
        "            node = node[feature_idx][inputs[feature_idx]]\n",
        "        return node"
      ],
      "metadata": {
        "id": "WdQvQH7_0u7I"
      },
      "execution_count": 12,
      "outputs": []
    },
    {
      "cell_type": "code",
      "source": [
        "X = np.array([[0, 0], [0, 1], [1, 0], [1, 1]])\n",
        "y = np.array([0, 1, 1, 0])\n",
        "tree = DecisionTree()\n",
        "tree.fit(X, y)\n",
        "print(tree.predict(X))"
      ],
      "metadata": {
        "colab": {
          "base_uri": "https://localhost:8080/"
        },
        "id": "scVU--qr2Zo6",
        "outputId": "b7f66f6b-b4e5-46c6-a321-31177a9b0f2b"
      },
      "execution_count": 13,
      "outputs": [
        {
          "output_type": "stream",
          "name": "stdout",
          "text": [
            "[0 1 1 0]\n"
          ]
        }
      ]
    },
    {
      "cell_type": "markdown",
      "source": [
        "**Given Training Dataset**"
      ],
      "metadata": {
        "id": "wk3xuZm54gLc"
      }
    },
    {
      "cell_type": "code",
      "source": [
        "import numpy as np\n",
        "\n",
        "data = [\n",
        "    [30, 'high', 'no', 'fair', 'no'],\n",
        "    [30, 'high', 'no', 'excellent', 'no'],\n",
        "    [31, 'medium', 'no', 'fair', 'yes'],\n",
        "    [40, 'low', 'no', 'fair', 'yes'],\n",
        "    [40, 'low', 'yes', 'fair', 'yes'],\n",
        "    [40, 'low', 'yes', 'excellent', 'no'],\n",
        "    [31, 'medium', 'yes', 'excellent', 'yes'],\n",
        "    [30, 'high', 'no', 'fair', 'no'],\n",
        "    [30, 'medium', 'yes', 'fair', 'yes'],\n",
        "    [31, 'medium', 'yes', 'excellent', 'yes'],\n",
        "    [31, 'high', 'no', 'excellent', 'yes'],\n",
        "    [40, 'medium', 'no', 'fair', 'yes'],\n",
        "    [40, 'high', 'yes', 'fair', 'yes'],\n",
        "    [31, 'medium', 'no', 'excellent', 'no']\n",
        "]"
      ],
      "metadata": {
        "id": "VfeViBzn1PZm"
      },
      "execution_count": 14,
      "outputs": []
    },
    {
      "cell_type": "code",
      "source": [
        "label_map = {'yes': 1, 'no': 0}\n",
        "\n",
        "\n",
        "data = np.array(data)\n",
        "\n",
        "X = data[:, :-1]\n",
        "y = np.array([label_map[label] for label in data[:, -1]])\n",
        "\n",
        "print(\"Features:\")\n",
        "print(X)\n",
        "print(\"Labels:\")\n",
        "print(y)"
      ],
      "metadata": {
        "colab": {
          "base_uri": "https://localhost:8080/"
        },
        "id": "-pbJdqoy3n_r",
        "outputId": "69720e3c-358a-483a-9a07-e52e8b91aa1f"
      },
      "execution_count": 15,
      "outputs": [
        {
          "output_type": "stream",
          "name": "stdout",
          "text": [
            "Features:\n",
            "[['30' 'high' 'no' 'fair']\n",
            " ['30' 'high' 'no' 'excellent']\n",
            " ['31' 'medium' 'no' 'fair']\n",
            " ['40' 'low' 'no' 'fair']\n",
            " ['40' 'low' 'yes' 'fair']\n",
            " ['40' 'low' 'yes' 'excellent']\n",
            " ['31' 'medium' 'yes' 'excellent']\n",
            " ['30' 'high' 'no' 'fair']\n",
            " ['30' 'medium' 'yes' 'fair']\n",
            " ['31' 'medium' 'yes' 'excellent']\n",
            " ['31' 'high' 'no' 'excellent']\n",
            " ['40' 'medium' 'no' 'fair']\n",
            " ['40' 'high' 'yes' 'fair']\n",
            " ['31' 'medium' 'no' 'excellent']]\n",
            "Labels:\n",
            "[0 0 1 1 1 0 1 0 1 1 1 1 1 0]\n"
          ]
        }
      ]
    }
  ]
}